{
 "cells": [
  {
   "cell_type": "code",
   "execution_count": 1,
   "id": "8ce5f4d2-a17f-4ffc-af06-6f715f237c06",
   "metadata": {},
   "outputs": [],
   "source": [
    "import pandas as pd\n",
    "import requests\n",
    "import re\n",
    "from bs4 import BeautifulSoup\n",
    "import psycopg2 # pip install psycopg2-binary\n",
    "import pandas as pd\n",
    "import ast\n",
    "\n",
    "from get_urls import get_course_urls\n",
    "from get_df import create_df"
   ]
  },
  {
   "cell_type": "code",
   "execution_count": 2,
   "id": "582ffdd5-7c72-4ef2-acf7-36db11228c93",
   "metadata": {},
   "outputs": [
    {
     "name": "stdout",
     "output_type": "stream",
     "text": [
      "done\n"
     ]
    }
   ],
   "source": [
    "course_urls = get_course_urls()\n",
    "\n",
    "# columns in our df\n",
    "columns = ['department_tag', 'course_code', 'name', 'credits','description', 'corequisites', 'prerequisites', 'attributes', 'department']\n",
    "\n",
    "df = pd.DataFrame(columns=columns)\n",
    "\n",
    "for url in course_urls:\n",
    "    department_df = create_df(url)\n",
    "    df = pd.concat([df, department_df], ignore_index=True)\n",
    "\n",
    "df.head()\n",
    "print('done')\n"
   ]
  },
  {
   "cell_type": "code",
   "execution_count": 9,
   "id": "2f9d874d-fa9f-4522-8010-995265af4323",
   "metadata": {},
   "outputs": [],
   "source": [
    "df.to_csv(\"courses.csv\", index=False)"
   ]
  },
  {
   "cell_type": "code",
   "execution_count": null,
   "id": "036a2310-9741-445b-a81b-baaf406448f4",
   "metadata": {},
   "outputs": [],
   "source": []
  }
 ],
 "metadata": {
  "kernelspec": {
   "display_name": "Python 3 (ipykernel)",
   "language": "python",
   "name": "python3"
  },
  "language_info": {
   "codemirror_mode": {
    "name": "ipython",
    "version": 3
   },
   "file_extension": ".py",
   "mimetype": "text/x-python",
   "name": "python",
   "nbconvert_exporter": "python",
   "pygments_lexer": "ipython3",
   "version": "3.12.4"
  }
 },
 "nbformat": 4,
 "nbformat_minor": 5
}
